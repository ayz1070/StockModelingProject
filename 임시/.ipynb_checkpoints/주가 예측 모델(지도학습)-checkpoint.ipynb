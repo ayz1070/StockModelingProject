{
 "cells": [
  {
   "cell_type": "markdown",
   "id": "ad61c233",
   "metadata": {},
   "source": [
    "# 분류 모델을 활용하여 주가 분석"
   ]
  },
  {
   "cell_type": "markdown",
   "id": "40f6dd80",
   "metadata": {},
   "source": [
    "## 가설\n",
    "- feature를 뉴스 기사 원문으로 하여 target인 등락을 분류 모델로 예측할 수 있지 않을까?"
   ]
  },
  {
   "cell_type": "markdown",
   "id": "e93aa297",
   "metadata": {},
   "source": [
    "## 방법\n",
    "1. 데이터 수집\n",
    "    - 날짜, 뉴스, 종가, 전날 종가, 등락으로 칼럼 구성\n",
    "    - 삼성전자라는 키워드를 입력하여 그에 대한 기사의 작성 날짜와 뉴스 원문을 크롤링한다.\n",
    "    - yfinance를 통해 종가 데이터도 수집한다.\n",
    "    - 등락 데이터는 '종가 - 전날 종가'로 구한다.\n",
    "---\n",
    "2. 데이터 전처리\n",
    "    - 단어 토큰화, 클렌징 등은 라이브러리를 활용하여 수행한다.\n",
    "        - konlpy\n",
    "    - BOW 방식 중 TF-IDF 벡터화를 통해 단어들을 벡터화 시킨다.\n",
    "---\n",
    "3. 분류 모델 적용\n",
    "    - 로지스틱 회귀를 활용할 예정이며 다른 분류 모델들도 적용해 정확도를 비교한다,\n",
    "---\n",
    "4. 최종 평가\n",
    "    - 최종 평가를 하며 마무리한다."
   ]
  },
  {
   "cell_type": "markdown",
   "id": "107ea44c",
   "metadata": {},
   "source": [
    "## 1. 데이터 수집"
   ]
  },
  {
   "cell_type": "code",
   "execution_count": 6,
   "id": "3511cd3e",
   "metadata": {},
   "outputs": [
    {
     "name": "stdout",
     "output_type": "stream",
     "text": [
      "테스트 횟수 입력 : 1\n",
      "검색 키워드 입력 : 삼성전자\n",
      "\n",
      "크롤링할 시작 페이지를 입력해주세요. ex)1(숫자만입력):1\n",
      "\n",
      "크롤링할 시작 페이지:  1 페이지\n",
      "\n",
      "크롤링할 종료 페이지를 입력해주세요. ex)1(숫자만입력):2\n",
      "\n",
      "크롤링할 종료 페이지:  2 페이지\n"
     ]
    },
    {
     "name": "stderr",
     "output_type": "stream",
     "text": [
      "100%|██████████████████████████████████████████████████████████████████████████████████████████| 39/39 [00:00<?, ?it/s]\n",
      "100%|██████████████████████████████████████████████████████████████████████████████████| 19/19 [00:02<00:00,  7.24it/s]"
     ]
    },
    {
     "name": "stdout",
     "output_type": "stream",
     "text": [
      "검색된 기사 갯수: 총  20 개\n",
      "\n",
      "[뉴스 제목]\n",
      "['경기불황에도 국내 대기업 순고용 늘렸다…삼성전자 증가폭 최대', '삼성전자, 오늘밤 다섯번째 폴더블폰 공개…관전 포인트는?', '삼성전자·LG전자, \\'올해의 녹색상품\\' 휩쓸어…\"친환경 노력 인정\"', '삼성전자, 올해 녹색상품서 최고 권위상 수상', \"삼성전자 5번째 폴더블폰 '갤Z플립5·폴드5', 노태문 꿈 이룰까\", '삼성전자, 웨어러블 로봇 사양 구체화…임직원 체험중', '\"삼성전자 없으면 어쩔 뻔\"…韓 R&amp;D 투자액 절반 책임졌다', \"삼성전자, 26일 '갤럭시 언팩' 개최\", '삼성전자 게이밍 모니터 ‘오디세이 OLED G9′, 英·美 주요 매체서 호평', \"삼성전자, 게이밍 모니터 '오디세이 OLED G9' 해외 호평\", \"삼성전자 2% 약세…다시 '6만전자'로\", \"삼성전자·LG전자 '올해의 녹색상품' 싹쓸이 쾌거\", '삼성전자 게이밍 모니터 ‘오디세이 OLED G9′, 英·美 주요 매체서 호평', \"삼성전자, '삼성스토어'서 갤럭시 사상 최초 한국 언팩 알려\", \"이재용 직접 나섰다… 삼성전자 미래 먹거리 '차량용 반도체'\", '\"22년째 삼성전자 1위\"…낸드시장, 내년엔 달라진다?', \"삼성전자, 한국 R&amp;D 투자액 1위 '압도적'…쏠림현상 심각\", \"삼성전자, 오늘 사상 첫 '韓 갤럭시 언팩'\", '한독, ‘삼성전자’ 출신 이은천 전무 의료기기 사업부 총괄 선임']\n",
      "\n",
      "[뉴스 링크]\n",
      "['https://n.news.naver.com/mnews/article/001/0014091355?sid=101', 'https://n.news.naver.com/mnews/article/092/0002299925?sid=105', 'https://n.news.naver.com/mnews/article/421/0006951701?sid=101', 'https://n.news.naver.com/mnews/article/082/0001223975?sid=101', 'https://n.news.naver.com/mnews/article/417/0000937810?sid=105', 'https://n.news.naver.com/mnews/article/003/0011995538?sid=101', 'https://n.news.naver.com/mnews/article/031/0000761127?sid=101', 'https://n.news.naver.com/mnews/article/015/0004872362?sid=101', 'https://n.news.naver.com/mnews/article/366/0000919236?sid=105', 'https://n.news.naver.com/mnews/article/003/0011992946?sid=101', 'https://n.news.naver.com/mnews/article/015/0004872651?sid=101', 'https://n.news.naver.com/mnews/article/018/0005537867?sid=101', 'https://n.news.naver.com/mnews/article/366/0000919236?sid=105', 'https://n.news.naver.com/mnews/article/108/0003169790?sid=004', 'https://n.news.naver.com/mnews/article/417/0000937803?sid=101', 'https://n.news.naver.com/mnews/article/003/0011992849?sid=101', 'https://n.news.naver.com/mnews/article/015/0004872084?sid=101', 'https://n.news.naver.com/mnews/article/374/0000344917?sid=101', 'https://n.news.naver.com/mnews/article/366/0000919577?sid=101']\n",
      "news_title:  19\n",
      "news_url:  19\n",
      "news_contents:  19\n",
      "news_dates:  19\n",
      "중복 제거 후 행 개수:  18\n"
     ]
    },
    {
     "name": "stderr",
     "output_type": "stream",
     "text": [
      "\n"
     ]
    },
    {
     "data": {
      "text/html": [
       "<div>\n",
       "<style scoped>\n",
       "    .dataframe tbody tr th:only-of-type {\n",
       "        vertical-align: middle;\n",
       "    }\n",
       "\n",
       "    .dataframe tbody tr th {\n",
       "        vertical-align: top;\n",
       "    }\n",
       "\n",
       "    .dataframe thead th {\n",
       "        text-align: right;\n",
       "    }\n",
       "</style>\n",
       "<table border=\"1\" class=\"dataframe\">\n",
       "  <thead>\n",
       "    <tr style=\"text-align: right;\">\n",
       "      <th></th>\n",
       "      <th>date</th>\n",
       "      <th>title</th>\n",
       "    </tr>\n",
       "  </thead>\n",
       "  <tbody>\n",
       "    <tr>\n",
       "      <th>0</th>\n",
       "      <td>2023-07-26 06:01:00</td>\n",
       "      <td>경기불황에도 국내 대기업 순고용 늘렸다…삼성전자 증가폭 최대</td>\n",
       "    </tr>\n",
       "    <tr>\n",
       "      <th>1</th>\n",
       "      <td>2023-07-26 09:32:01</td>\n",
       "      <td>삼성전자, 오늘밤 다섯번째 폴더블폰 공개…관전 포인트는?</td>\n",
       "    </tr>\n",
       "    <tr>\n",
       "      <th>2</th>\n",
       "      <td>2023-07-26 09:00:00</td>\n",
       "      <td>삼성전자·LG전자, '올해의 녹색상품' 휩쓸어…\"친환경 노력 인정\"</td>\n",
       "    </tr>\n",
       "    <tr>\n",
       "      <th>3</th>\n",
       "      <td>2023-07-26 09:01:01</td>\n",
       "      <td>삼성전자, 올해 녹색상품서 최고 권위상 수상</td>\n",
       "    </tr>\n",
       "    <tr>\n",
       "      <th>4</th>\n",
       "      <td>2023-07-26 07:10:00</td>\n",
       "      <td>삼성전자 5번째 폴더블폰 '갤Z플립5·폴드5', 노태문 꿈 이룰까</td>\n",
       "    </tr>\n",
       "    <tr>\n",
       "      <th>5</th>\n",
       "      <td>2023-07-26 08:55:11</td>\n",
       "      <td>삼성전자, 웨어러블 로봇 사양 구체화…임직원 체험중</td>\n",
       "    </tr>\n",
       "    <tr>\n",
       "      <th>6</th>\n",
       "      <td>2023-07-25 10:12:01</td>\n",
       "      <td>\"삼성전자 없으면 어쩔 뻔\"…韓 R&amp;amp;D 투자액 절반 책임졌다</td>\n",
       "    </tr>\n",
       "    <tr>\n",
       "      <th>7</th>\n",
       "      <td>2023-07-25 17:45:03</td>\n",
       "      <td>삼성전자, 26일 '갤럭시 언팩' 개최</td>\n",
       "    </tr>\n",
       "    <tr>\n",
       "      <th>8</th>\n",
       "      <td>2023-07-25 08:21:01</td>\n",
       "      <td>삼성전자 게이밍 모니터 ‘오디세이 OLED G9′, 英·美 주요 매체서 호평</td>\n",
       "    </tr>\n",
       "    <tr>\n",
       "      <th>9</th>\n",
       "      <td>2023-07-25 08:45:03</td>\n",
       "      <td>삼성전자, 게이밍 모니터 '오디세이 OLED G9' 해외 호평</td>\n",
       "    </tr>\n",
       "    <tr>\n",
       "      <th>10</th>\n",
       "      <td>2023-07-26 10:50:03</td>\n",
       "      <td>삼성전자 2% 약세…다시 '6만전자'로</td>\n",
       "    </tr>\n",
       "    <tr>\n",
       "      <th>11</th>\n",
       "      <td>2023-07-26 09:16:01</td>\n",
       "      <td>삼성전자·LG전자 '올해의 녹색상품' 싹쓸이 쾌거</td>\n",
       "    </tr>\n",
       "    <tr>\n",
       "      <th>12</th>\n",
       "      <td>2023-07-25 10:56:04</td>\n",
       "      <td>삼성전자, '삼성스토어'서 갤럭시 사상 최초 한국 언팩 알려</td>\n",
       "    </tr>\n",
       "    <tr>\n",
       "      <th>13</th>\n",
       "      <td>2023-07-26 06:40:00</td>\n",
       "      <td>이재용 직접 나섰다… 삼성전자 미래 먹거리 '차량용 반도체'</td>\n",
       "    </tr>\n",
       "    <tr>\n",
       "      <th>14</th>\n",
       "      <td>2023-07-25 06:31:03</td>\n",
       "      <td>\"22년째 삼성전자 1위\"…낸드시장, 내년엔 달라진다?</td>\n",
       "    </tr>\n",
       "    <tr>\n",
       "      <th>15</th>\n",
       "      <td>2023-07-25 09:27:01</td>\n",
       "      <td>삼성전자, 한국 R&amp;amp;D 투자액 1위 '압도적'…쏠림현상 심각</td>\n",
       "    </tr>\n",
       "    <tr>\n",
       "      <th>16</th>\n",
       "      <td>2023-07-26 07:09:01</td>\n",
       "      <td>삼성전자, 오늘 사상 첫 '韓 갤럭시 언팩'</td>\n",
       "    </tr>\n",
       "    <tr>\n",
       "      <th>17</th>\n",
       "      <td>2023-07-26 09:47:01</td>\n",
       "      <td>한독, ‘삼성전자’ 출신 이은천 전무 의료기기 사업부 총괄 선임</td>\n",
       "    </tr>\n",
       "  </tbody>\n",
       "</table>\n",
       "</div>"
      ],
      "text/plain": [
       "                   date                                       title\n",
       "0   2023-07-26 06:01:00           경기불황에도 국내 대기업 순고용 늘렸다…삼성전자 증가폭 최대\n",
       "1   2023-07-26 09:32:01             삼성전자, 오늘밤 다섯번째 폴더블폰 공개…관전 포인트는?\n",
       "2   2023-07-26 09:00:00       삼성전자·LG전자, '올해의 녹색상품' 휩쓸어…\"친환경 노력 인정\"\n",
       "3   2023-07-26 09:01:01                    삼성전자, 올해 녹색상품서 최고 권위상 수상\n",
       "4   2023-07-26 07:10:00        삼성전자 5번째 폴더블폰 '갤Z플립5·폴드5', 노태문 꿈 이룰까\n",
       "5   2023-07-26 08:55:11                삼성전자, 웨어러블 로봇 사양 구체화…임직원 체험중\n",
       "6   2023-07-25 10:12:01       \"삼성전자 없으면 어쩔 뻔\"…韓 R&amp;D 투자액 절반 책임졌다\n",
       "7   2023-07-25 17:45:03                       삼성전자, 26일 '갤럭시 언팩' 개최\n",
       "8   2023-07-25 08:21:01  삼성전자 게이밍 모니터 ‘오디세이 OLED G9′, 英·美 주요 매체서 호평\n",
       "9   2023-07-25 08:45:03          삼성전자, 게이밍 모니터 '오디세이 OLED G9' 해외 호평\n",
       "10  2023-07-26 10:50:03                       삼성전자 2% 약세…다시 '6만전자'로\n",
       "11  2023-07-26 09:16:01                 삼성전자·LG전자 '올해의 녹색상품' 싹쓸이 쾌거\n",
       "12  2023-07-25 10:56:04           삼성전자, '삼성스토어'서 갤럭시 사상 최초 한국 언팩 알려\n",
       "13  2023-07-26 06:40:00           이재용 직접 나섰다… 삼성전자 미래 먹거리 '차량용 반도체'\n",
       "14  2023-07-25 06:31:03              \"22년째 삼성전자 1위\"…낸드시장, 내년엔 달라진다?\n",
       "15  2023-07-25 09:27:01       삼성전자, 한국 R&amp;D 투자액 1위 '압도적'…쏠림현상 심각\n",
       "16  2023-07-26 07:09:01                    삼성전자, 오늘 사상 첫 '韓 갤럭시 언팩'\n",
       "17  2023-07-26 09:47:01         한독, ‘삼성전자’ 출신 이은천 전무 의료기기 사업부 총괄 선임"
      ]
     },
     "execution_count": 6,
     "metadata": {},
     "output_type": "execute_result"
    }
   ],
   "source": [
    "from bs4 import BeautifulSoup\n",
    "improt requests\n",
    "import re\n",
    "import datetime\n",
    "from tqdm import tqdm\n",
    "\n",
    "url = "
   ]
  },
  {
   "cell_type": "code",
   "execution_count": null,
   "id": "ee7068cf",
   "metadata": {},
   "outputs": [],
   "source": [
    "# 데이터 프레임 저장\n",
    "now = datetime.datetime.now()\n",
    "news_df.to_csv(f'csv/{search} 뉴스 제목{num}.csv', encoding='utf-8-sig', index=False)\n",
    "\n",
    "print(type(news_df['title']))\n",
    "# print(type(news_df['content']))"
   ]
  },
  {
   "cell_type": "code",
   "execution_count": null,
   "id": "c13b1a71",
   "metadata": {},
   "outputs": [],
   "source": []
  }
 ],
 "metadata": {
  "kernelspec": {
   "display_name": "CapstonStockProject",
   "language": "python",
   "name": "capstonestockproject"
  },
  "language_info": {
   "codemirror_mode": {
    "name": "ipython",
    "version": 3
   },
   "file_extension": ".py",
   "mimetype": "text/x-python",
   "name": "python",
   "nbconvert_exporter": "python",
   "pygments_lexer": "ipython3",
   "version": "3.9.16"
  }
 },
 "nbformat": 4,
 "nbformat_minor": 5
}
