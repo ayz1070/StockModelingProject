{
 "cells": [
  {
   "cell_type": "markdown",
   "id": "ad61c233",
   "metadata": {},
   "source": [
    "# 분류 모델을 활용하여 주가 분석"
   ]
  },
  {
   "cell_type": "markdown",
   "id": "40f6dd80",
   "metadata": {},
   "source": [
    "## 가설\n",
    "- feature를 뉴스 기사 원문으로 하여 target인 등락을 분류 모델로 예측할 수 있지 않을까?"
   ]
  },
  {
   "cell_type": "markdown",
   "id": "e93aa297",
   "metadata": {},
   "source": [
    "## 방법\n",
    "1. 데이터 수집\n",
    "    - 날짜, 뉴스, 종가, 전날 종가, 등락으로 칼럼 구성\n",
    "    - 삼성전자라는 키워드를 입력하여 그에 대한 기사의 작성 날짜와 뉴스 원문을 크롤링한다.\n",
    "    - yfinance를 통해 종가 데이터도 수집한다.\n",
    "    - 등락 데이터는 '종가 - 전날 종가'로 구한다.\n",
    "---\n",
    "2. 데이터 전처리\n",
    "    - 단어 토큰화, 클렌징 등은 라이브러리를 활용하여 수행한다.\n",
    "        - konlpy\n",
    "    - BOW 방식 중 TF-IDF 벡터화를 통해 단어들을 벡터화 시킨다.\n",
    "---\n",
    "3. 분류 모델 적용\n",
    "    - 로지스틱 회귀를 활용할 예정이며 다른 분류 모델들도 적용해 정확도를 비교한다,\n",
    "---\n",
    "4. 최종 평가\n",
    "    - 최종 평가를 하며 마무리한다."
   ]
  },
  {
   "cell_type": "markdown",
   "id": "107ea44c",
   "metadata": {},
   "source": [
    "## 1. 데이터 수집"
   ]
  },
  {
   "cell_type": "code",
   "execution_count": 53,
   "id": "3511cd3e",
   "metadata": {
    "scrolled": true
   },
   "outputs": [
    {
     "name": "stdout",
     "output_type": "stream",
     "text": [
      "https://n.news.naver.com/mnews/article/001/0014091355?sid=101\n",
      "2023-07-26\n",
      "<div class=\"go_trans _article_content\" id=\"dic_area\">\n",
      "<strong style=\"display:block;overflow:hidden;position:relative;margin:33px 20px 10px 3px;padding-left:11px;font-weight:bold;border-left: 2px solid #141414;\">CEO스코어, 500대 기업 국민연금 가입자 기준 고용현황 조사<br/>올해 상반기 고용 9천314명 늘어…조선·기계·설비 업종 ↑</strong><br/><br/><span class=\"end_photo_org\"><div class=\"nbd_im_w _LAZY_LOADING_WRAP\">\n",
      "<div class=\"nbd_a _LAZY_LOADING_ERROR_HIDE\" id=\"img_a1\">\n",
      "<img class=\"_LAZY_LOADING\" data-src=\"https://imgnews.pstatic.net/image/001/2023/07/26/PCM20190916000004990_P4_20230726062504476.jpg?type=w647\" id=\"img1\">\n",
      "</img></div>\n",
      "</div><em class=\"img_desc\">상반기 국내 대기업 순고용 증가(CG)<br/>[연합뉴스TV 제공]</em></span><br/><br/>    (서울=연합뉴스) 장하나 기자 = 극심한 경기 침체에도 국내 대기업들이 올해 상반기에 1만명 가까이 고용을 늘린 것으로 집계됐다.<br/><br/>    특히 삼성전자만 유일하게 순고용을 2천명 이상 늘려 500대 기업 중 순고용 증가 폭이 가장 컸다.<br/><br/>26일 기업데이터연구소 CEO스코어에 따르면 매출액 기준 500대 기업 중 합병·분할 등이 있었던 25곳을 제외한 475곳의 국민연금 가입자 기준 고용 현황을 조사한 결과, 올 상반기 순고용이 작년 말 대비 9천314명 늘어났다.<br/><br/>    순고용 인원은 국민연금 신규 가입자격 취득자에서 자격 상실자를 뺀 수치로, 순증감 인원을 의미한다. <br/><br/>    조사 결과 올 상반기 500대 기업의 국민연금 가입자격 누적 취득자는 14만6천970명, 상실자는 13만7천656명이었다. <br/><br/>    국민연금 상실자는 작년 상반기(15만232명) 대비 소폭 감소했지만, 취득자는 작년 상반기(16만4천877명)와 비교하면 큰 폭으로 줄어든 탓에 순고용 증가 규모가 1만명을 밑돌았다.<br/><br/>    업종별로는 전체 21개 업종 중 조선·기계·설비를 비롯한 18개 업종에서 순고용이 늘었다.<br/><br/>    이중 조선·기계·설비 업종(2천142명)이 가장 많이 늘었고, 서비스업(2천132명)이 뒤를 이었다. 식음료(1천279명), 석유화학(1천206명), 공기업(1천151명), 건설·건자재(1천17명) 등도 순고용이 늘었다.<br/><br/>    반면 IT전기전자 업종은 974명이 줄어 감소 폭이 가장 컸다. 유통(-756명), 증권(-301명) 업종도 상반기 순고용이 마이너스를 기록했다.<br/><br/><span class=\"end_photo_org\"><div class=\"nbd_im_w _LAZY_LOADING_WRAP\">\n",
      "<div class=\"nbd_a _LAZY_LOADING_ERROR_HIDE\" id=\"img_a2\">\n",
      "<img class=\"_LAZY_LOADING\" data-src=\"https://imgnews.pstatic.net/image/001/2023/07/26/AKR20230725143900003_01_i_P4_20230726062504480.jpg?type=w647\" id=\"img2\">\n",
      "</img></div>\n",
      "</div><em class=\"img_desc\">2023년 상반기 순고용 증가 상위 10개사<br/>[CEO스코어 제공. 재판매 및 DB 금지]</em></span><br/><br/>기업별로 보면 삼성전자의 순고용 증가(2천275명)가 전체 조사 대상 기업 중 가장 많았다. 삼성전자의 올 상반기 국민연금 취득자는 5천839명, 상실자는 3천564명으로 집계됐다. <br/><br/>    이어 한국철도공사(1천419명)와 현대자동차(1천57명)의 순고용 증가 폭이 컸다. <br/><br/>    CJ올리브영(859명), 에스씨케이컴퍼니(829명), 삼구아이앤씨(751명), LG에너지솔루션(749명), 삼성물산(690명), 농협은행(468명), 포스코퓨처엠(456명) 등이 뒤를 이었다.<br/><br/>    반면 올 상반기 순고용 감소 폭이 가장 큰 기업은 LG이노텍(-2천665명)으로 조사됐다. 이는 고객의 수요가 집중되는 하반기에 비정규직 채용을 크게 늘리는 데 반해 이듬해 상반기에는 계약 해지자가 증가하는 업종 특성에 따른 것으로 풀이된다. <br/><br/>    이어 LG디스플레이(-1천201명), 이마트(-773명), 한국도로공사(-589명), 기아(-453명), 국민은행(-432명), 롯데쇼핑(-425명), 홈플러스(-394명), 한국마사회(-384명), 카카오엔터테인먼트(-383명) 등의 순이었다.<br/><br/>    hanajjang@yna.co.kr<br/><br/>\n",
      "</div>\n"
     ]
    }
   ],
   "source": [
    "from bs4 import BeautifulSoup\n",
    "import requests\n",
    "import re\n",
    "import datetime\n",
    "from tqdm import tqdm\n",
    "import pandas as pd\n",
    "\n",
    "name = \"삼성전자\"\n",
    "url = \"https://search.naver.com/search.naver?where=news&sm=tab_jum&query=\"+name\n",
    "\n",
    "response = requests.get(url)\n",
    "\n",
    "html = response.text\n",
    "\n",
    "soup = BeautifulSoup(html,'html.parser')\n",
    "news_url = soup.select_one('#sp_nws1 > div.news_wrap.api_ani_send > div > div.news_info > div.info_group > a:nth-child(3)')\n",
    "print(news_url['href'])\n",
    "\n",
    "url2 = news_url['href']\n",
    "\n",
    "response2 = requests.get(url2)\n",
    "html2 = response2.text\n",
    "\n",
    "soup2 = BeautifulSoup(html2,'html.parser')\n",
    "date = soup2.select_one('#ct > div.media_end_head.go_trans > div.media_end_head_info.nv_notrans > div.media_end_head_info_datestamp > div:nth-child(1) > span')\n",
    "content = soup2.select_one('#dic_area')\n",
    "print(date['data-date-time'][0:10])\n",
    "print(content)"
   ]
  },
  {
   "cell_type": "code",
   "execution_count": null,
   "id": "b763426d",
   "metadata": {},
   "outputs": [],
   "source": [
    "urls = []\n",
    "\n",
    "pages = 10\n",
    "\n",
    "for p in range(pages):\n",
    "    url = \"https://search.naver.com/search.naver?where=news&sm=tab_jum&query=\"+name\n",
    "\n",
    "    response = requests.get(url)\n",
    "\n",
    "    html = response.text\n",
    "\n",
    "    soup = BeautifulSoup(html,'html.parser')\n",
    "    news_url = soup.select_one('#sp_nws1 > div.news_wrap.api_ani_send > div > div.news_info > div.info_group > a:nth-child(3)')\n",
    "    print(news_url['href'])"
   ]
  },
  {
   "cell_type": "code",
   "execution_count": 38,
   "id": "ee7068cf",
   "metadata": {},
   "outputs": [
    {
     "name": "stdout",
     "output_type": "stream",
     "text": [
      "[*********************100%***********************]  1 of 1 completed\n"
     ]
    },
    {
     "data": {
      "text/html": [
       "<div>\n",
       "<style scoped>\n",
       "    .dataframe tbody tr th:only-of-type {\n",
       "        vertical-align: middle;\n",
       "    }\n",
       "\n",
       "    .dataframe tbody tr th {\n",
       "        vertical-align: top;\n",
       "    }\n",
       "\n",
       "    .dataframe thead th {\n",
       "        text-align: right;\n",
       "    }\n",
       "</style>\n",
       "<table border=\"1\" class=\"dataframe\">\n",
       "  <thead>\n",
       "    <tr style=\"text-align: right;\">\n",
       "      <th></th>\n",
       "      <th>Open</th>\n",
       "      <th>High</th>\n",
       "      <th>Low</th>\n",
       "      <th>Close</th>\n",
       "      <th>Adj Close</th>\n",
       "      <th>Volume</th>\n",
       "    </tr>\n",
       "    <tr>\n",
       "      <th>Date</th>\n",
       "      <th></th>\n",
       "      <th></th>\n",
       "      <th></th>\n",
       "      <th></th>\n",
       "      <th></th>\n",
       "      <th></th>\n",
       "    </tr>\n",
       "  </thead>\n",
       "  <tbody>\n",
       "    <tr>\n",
       "      <th>2023-07-13</th>\n",
       "      <td>72400.0</td>\n",
       "      <td>72600.0</td>\n",
       "      <td>71900.0</td>\n",
       "      <td>71900.0</td>\n",
       "      <td>71900.0</td>\n",
       "      <td>14417279</td>\n",
       "    </tr>\n",
       "    <tr>\n",
       "      <th>2023-07-14</th>\n",
       "      <td>72500.0</td>\n",
       "      <td>73400.0</td>\n",
       "      <td>72400.0</td>\n",
       "      <td>73400.0</td>\n",
       "      <td>73400.0</td>\n",
       "      <td>15882519</td>\n",
       "    </tr>\n",
       "    <tr>\n",
       "      <th>2023-07-17</th>\n",
       "      <td>73200.0</td>\n",
       "      <td>73500.0</td>\n",
       "      <td>72800.0</td>\n",
       "      <td>73300.0</td>\n",
       "      <td>73300.0</td>\n",
       "      <td>10060049</td>\n",
       "    </tr>\n",
       "    <tr>\n",
       "      <th>2023-07-18</th>\n",
       "      <td>73200.0</td>\n",
       "      <td>73500.0</td>\n",
       "      <td>72000.0</td>\n",
       "      <td>72000.0</td>\n",
       "      <td>72000.0</td>\n",
       "      <td>11697900</td>\n",
       "    </tr>\n",
       "    <tr>\n",
       "      <th>2023-07-19</th>\n",
       "      <td>72700.0</td>\n",
       "      <td>72800.0</td>\n",
       "      <td>71300.0</td>\n",
       "      <td>71700.0</td>\n",
       "      <td>71700.0</td>\n",
       "      <td>10896412</td>\n",
       "    </tr>\n",
       "    <tr>\n",
       "      <th>2023-07-20</th>\n",
       "      <td>71100.0</td>\n",
       "      <td>71500.0</td>\n",
       "      <td>70800.0</td>\n",
       "      <td>71000.0</td>\n",
       "      <td>71000.0</td>\n",
       "      <td>9732730</td>\n",
       "    </tr>\n",
       "    <tr>\n",
       "      <th>2023-07-21</th>\n",
       "      <td>70400.0</td>\n",
       "      <td>70400.0</td>\n",
       "      <td>69400.0</td>\n",
       "      <td>70300.0</td>\n",
       "      <td>70300.0</td>\n",
       "      <td>16528926</td>\n",
       "    </tr>\n",
       "    <tr>\n",
       "      <th>2023-07-24</th>\n",
       "      <td>70100.0</td>\n",
       "      <td>70900.0</td>\n",
       "      <td>69900.0</td>\n",
       "      <td>70400.0</td>\n",
       "      <td>70400.0</td>\n",
       "      <td>13418597</td>\n",
       "    </tr>\n",
       "    <tr>\n",
       "      <th>2023-07-25</th>\n",
       "      <td>70000.0</td>\n",
       "      <td>70500.0</td>\n",
       "      <td>69800.0</td>\n",
       "      <td>70000.0</td>\n",
       "      <td>70000.0</td>\n",
       "      <td>14314945</td>\n",
       "    </tr>\n",
       "    <tr>\n",
       "      <th>2023-07-26</th>\n",
       "      <td>69800.0</td>\n",
       "      <td>70200.0</td>\n",
       "      <td>68100.0</td>\n",
       "      <td>70200.0</td>\n",
       "      <td>70200.0</td>\n",
       "      <td>23561544</td>\n",
       "    </tr>\n",
       "  </tbody>\n",
       "</table>\n",
       "</div>"
      ],
      "text/plain": [
       "               Open     High      Low    Close  Adj Close    Volume\n",
       "Date                                                               \n",
       "2023-07-13  72400.0  72600.0  71900.0  71900.0    71900.0  14417279\n",
       "2023-07-14  72500.0  73400.0  72400.0  73400.0    73400.0  15882519\n",
       "2023-07-17  73200.0  73500.0  72800.0  73300.0    73300.0  10060049\n",
       "2023-07-18  73200.0  73500.0  72000.0  72000.0    72000.0  11697900\n",
       "2023-07-19  72700.0  72800.0  71300.0  71700.0    71700.0  10896412\n",
       "2023-07-20  71100.0  71500.0  70800.0  71000.0    71000.0   9732730\n",
       "2023-07-21  70400.0  70400.0  69400.0  70300.0    70300.0  16528926\n",
       "2023-07-24  70100.0  70900.0  69900.0  70400.0    70400.0  13418597\n",
       "2023-07-25  70000.0  70500.0  69800.0  70000.0    70000.0  14314945\n",
       "2023-07-26  69800.0  70200.0  68100.0  70200.0    70200.0  23561544"
      ]
     },
     "execution_count": 38,
     "metadata": {},
     "output_type": "execute_result"
    }
   ],
   "source": [
    "import yfinance as yf\n",
    "\n",
    "start = \"2020-02-01\"\n",
    "end = \"2023-03-01\"\n",
    "symbol = \"005930.KS\"\n",
    "\n",
    "samsung = yf.download(symbol,start)\n",
    "\n",
    "samsung.tail(10)"
   ]
  },
  {
   "cell_type": "code",
   "execution_count": 41,
   "id": "c13b1a71",
   "metadata": {},
   "outputs": [
    {
     "name": "stdout",
     "output_type": "stream",
     "text": [
      "<class 'pandas.core.frame.DataFrame'>\n",
      "DatetimeIndex: 861 entries, 2020-02-03 to 2023-07-26\n",
      "Data columns (total 6 columns):\n",
      " #   Column     Non-Null Count  Dtype  \n",
      "---  ------     --------------  -----  \n",
      " 0   Open       861 non-null    float64\n",
      " 1   High       861 non-null    float64\n",
      " 2   Low        861 non-null    float64\n",
      " 3   Close      861 non-null    float64\n",
      " 4   Adj Close  861 non-null    float64\n",
      " 5   Volume     861 non-null    int64  \n",
      "dtypes: float64(5), int64(1)\n",
      "memory usage: 47.1 KB\n"
     ]
    }
   ],
   "source": [
    "samsung.info()"
   ]
  },
  {
   "cell_type": "code",
   "execution_count": 43,
   "id": "d8bfbefa",
   "metadata": {},
   "outputs": [
    {
     "data": {
      "text/plain": [
       "DatetimeIndex(['2020-02-03', '2020-02-04', '2020-02-05', '2020-02-06',\n",
       "               '2020-02-07', '2020-02-10', '2020-02-11', '2020-02-12',\n",
       "               '2020-02-13', '2020-02-14',\n",
       "               ...\n",
       "               '2023-07-13', '2023-07-14', '2023-07-17', '2023-07-18',\n",
       "               '2023-07-19', '2023-07-20', '2023-07-21', '2023-07-24',\n",
       "               '2023-07-25', '2023-07-26'],\n",
       "              dtype='datetime64[ns]', name='Date', length=861, freq=None)"
      ]
     },
     "execution_count": 43,
     "metadata": {},
     "output_type": "execute_result"
    }
   ],
   "source": [
    "samsung.index"
   ]
  },
  {
   "cell_type": "code",
   "execution_count": 47,
   "id": "4d1a5095",
   "metadata": {},
   "outputs": [
    {
     "data": {
      "text/plain": [
       "54200.0"
      ]
     },
     "execution_count": 47,
     "metadata": {},
     "output_type": "execute_result"
    }
   ],
   "source": [
    "samsung['Close']['2020-02-28']"
   ]
  },
  {
   "cell_type": "code",
   "execution_count": 52,
   "id": "05e21e3d",
   "metadata": {},
   "outputs": [
    {
     "data": {
      "text/plain": [
       "200.0"
      ]
     },
     "execution_count": 52,
     "metadata": {},
     "output_type": "execute_result"
    }
   ],
   "source": [
    "samsung['Close'][-1]-samsung['Close'][-2]"
   ]
  },
  {
   "cell_type": "code",
   "execution_count": null,
   "id": "003f5b69",
   "metadata": {},
   "outputs": [],
   "source": []
  }
 ],
 "metadata": {
  "kernelspec": {
   "display_name": "CapstonStockProject",
   "language": "python",
   "name": "capstonestockproject"
  },
  "language_info": {
   "codemirror_mode": {
    "name": "ipython",
    "version": 3
   },
   "file_extension": ".py",
   "mimetype": "text/x-python",
   "name": "python",
   "nbconvert_exporter": "python",
   "pygments_lexer": "ipython3",
   "version": "3.9.16"
  }
 },
 "nbformat": 4,
 "nbformat_minor": 5
}
